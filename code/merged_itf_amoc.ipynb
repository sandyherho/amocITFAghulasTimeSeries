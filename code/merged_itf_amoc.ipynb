{
 "cells": [
  {
   "cell_type": "code",
   "execution_count": null,
   "id": "f1337789-a513-411b-a1fc-83d876c85964",
   "metadata": {},
   "outputs": [],
   "source": [
    "'''\n",
    "map.py\n",
    "\n",
    "PyGMT Mapping script\n",
    "Sandy H. S. Herho <herho@umd.edu>\n",
    "2021/10/24\n",
    "'''\n",
    "import pygmt\n",
    "grid = pygmt.datasets.load_earth_relief(resolution='06m')\n",
    "fig = pygmt.Figure()\n",
    "fig.grdimage(grid=grid, projection=\"R12c\", cmap=\"geo\")\n",
    "fig.colorbar(frame=[\"a2500\", \"x+lElevation\", \"y+lm\"])\n",
    "\n",
    "lon = [-68.8, 115.0, 29.0]\n",
    "lat = [26.5, -7.5, -36.0]\n",
    "\n",
    "fig.plot(x=lon, y=lat, style=\"c0.2c\", fill=\"red\")\n",
    "fig.show()\n",
    "fig.savefig('../figs/map.png', dpi=350)"
   ]
  },
  {
   "cell_type": "code",
   "execution_count": null,
   "id": "40699deb-d3d5-470d-b12e-8a9b3485f072",
   "metadata": {},
   "outputs": [],
   "source": []
  }
 ],
 "metadata": {
  "kernelspec": {
   "display_name": "Python 3 (ipykernel)",
   "language": "python",
   "name": "python3"
  },
  "language_info": {
   "codemirror_mode": {
    "name": "ipython",
    "version": 3
   },
   "file_extension": ".py",
   "mimetype": "text/x-python",
   "name": "python",
   "nbconvert_exporter": "python",
   "pygments_lexer": "ipython3",
   "version": "3.10.9"
  }
 },
 "nbformat": 4,
 "nbformat_minor": 5
}
